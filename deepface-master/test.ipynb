{
 "cells": [
  {
   "cell_type": "code",
   "execution_count": 1,
   "metadata": {},
   "outputs": [],
   "source": [
    "from deepface import DeepFace\n",
    "import matplotlib.pyplot as plt"
   ]
  },
  {
   "cell_type": "code",
   "execution_count": 2,
   "metadata": {},
   "outputs": [],
   "source": [
    "img1_path = 'pictest/aa3.jpeg'\n",
    "img2_path = 'pictest/aa2.jpeg'\n",
    "img3_path = 'pictest/nex3.jpeg'"
   ]
  },
  {
   "cell_type": "markdown",
   "metadata": {},
   "source": [
    "Check if these two pictures are the same."
   ]
  },
  {
   "cell_type": "code",
   "execution_count": 3,
   "metadata": {},
   "outputs": [],
   "source": [
    "model_name = 'Facenet'"
   ]
  },
  {
   "cell_type": "code",
   "execution_count": 4,
   "metadata": {},
   "outputs": [],
   "source": [
    "resp1 = DeepFace.verify(img1_path = img1_path, img2_path = img2_path, model_name = model_name)\n",
    "resp2 = DeepFace.verify(img1_path = img1_path, img2_path = img3_path, model_name = model_name)"
   ]
  },
  {
   "cell_type": "code",
   "execution_count": 5,
   "metadata": {},
   "outputs": [
    {
     "data": {
      "text/plain": [
       "{'verified': True,\n",
       " 'distance': 0.2196894310575589,\n",
       " 'threshold': 0.4,\n",
       " 'model': 'Facenet',\n",
       " 'detector_backend': 'opencv',\n",
       " 'similarity_metric': 'cosine',\n",
       " 'facial_areas': {'img1': {'x': 478,\n",
       "   'y': 761,\n",
       "   'w': 1614,\n",
       "   'h': 1614,\n",
       "   'left_eye': (1482, 1360),\n",
       "   'right_eye': (1015, 1440)},\n",
       "  'img2': {'x': 1181,\n",
       "   'y': 916,\n",
       "   'w': 408,\n",
       "   'h': 408,\n",
       "   'left_eye': (1467, 1064),\n",
       "   'right_eye': (1298, 1060)}},\n",
       " 'time': 7.57}"
      ]
     },
     "execution_count": 5,
     "metadata": {},
     "output_type": "execute_result"
    }
   ],
   "source": [
    "resp1"
   ]
  },
  {
   "cell_type": "code",
   "execution_count": 6,
   "metadata": {},
   "outputs": [
    {
     "data": {
      "text/plain": [
       "{'verified': False,\n",
       " 'distance': 0.6583254250951267,\n",
       " 'threshold': 0.4,\n",
       " 'model': 'Facenet',\n",
       " 'detector_backend': 'opencv',\n",
       " 'similarity_metric': 'cosine',\n",
       " 'facial_areas': {'img1': {'x': 478,\n",
       "   'y': 761,\n",
       "   'w': 1614,\n",
       "   'h': 1614,\n",
       "   'left_eye': (1482, 1360),\n",
       "   'right_eye': (1015, 1440)},\n",
       "  'img2': {'x': 764,\n",
       "   'y': 939,\n",
       "   'w': 1473,\n",
       "   'h': 1473,\n",
       "   'left_eye': (1766, 1476),\n",
       "   'right_eye': (1211, 1536)}},\n",
       " 'time': 5.09}"
      ]
     },
     "execution_count": 6,
     "metadata": {},
     "output_type": "execute_result"
    }
   ],
   "source": [
    "resp2"
   ]
  },
  {
   "cell_type": "markdown",
   "metadata": {},
   "source": [
    "Check which reference images are similar to which images in the database."
   ]
  },
  {
   "cell_type": "code",
   "execution_count": 7,
   "metadata": {},
   "outputs": [
    {
     "name": "stdout",
     "output_type": "stream",
     "text": [
      "24-08-12 21:04:30 - Searching pictest/source.jpeg in 23 length datastore\n",
      "24-08-12 21:04:33 - find function duration 3.42002010345459 seconds\n"
     ]
    }
   ],
   "source": [
    "df = DeepFace.find(img_path='pictest/source.jpeg', db_path='pictest/')"
   ]
  },
  {
   "cell_type": "code",
   "execution_count": 8,
   "metadata": {},
   "outputs": [
    {
     "name": "stdout",
     "output_type": "stream",
     "text": [
      "[              identity                                      hash  target_x  \\\n",
      "0     pictest/aa3.jpeg  43650d83f3caaa6b68a670b20558609718209b7e       478   \n",
      "1  pictest/source.jpeg  9fb72b410d79c85b1d10efb5bcc8dd26f2a5a066       478   \n",
      "2  pictest/source.jpeg  9fb72b410d79c85b1d10efb5bcc8dd26f2a5a066       478   \n",
      "3     pictest/aa2.jpeg  9deb929c94b9cb65320f3428f3c1a81e83d6a42f      1181   \n",
      "4    pictest/nex3.jpeg  a138098dbecb47f13191597f7df35279d38d45aa       764   \n",
      "\n",
      "   target_y  target_w  target_h  source_x  source_y  source_w  source_h  \\\n",
      "0       761      1614      1614       478       761      1614      1614   \n",
      "1       761      1614      1614       478       761      1614      1614   \n",
      "2       761      1614      1614       478       761      1614      1614   \n",
      "3       916       408       408       478       761      1614      1614   \n",
      "4       939      1473      1473       478       761      1614      1614   \n",
      "\n",
      "   threshold  distance  \n",
      "0       0.68  0.000000  \n",
      "1       0.68  0.000000  \n",
      "2       0.68  0.000000  \n",
      "3       0.68  0.507337  \n",
      "4       0.68  0.594938  ]\n"
     ]
    }
   ],
   "source": [
    "print(df)"
   ]
  },
  {
   "cell_type": "markdown",
   "metadata": {},
   "source": [
    "detail of pictures"
   ]
  },
  {
   "cell_type": "code",
   "execution_count": 9,
   "metadata": {},
   "outputs": [
    {
     "name": "stderr",
     "output_type": "stream",
     "text": [
      "Action: race: 100%|██████████| 4/4 [00:03<00:00,  1.22it/s]   \n"
     ]
    }
   ],
   "source": [
    "obj = DeepFace.analyze(img_path = img1_path)"
   ]
  },
  {
   "cell_type": "code",
   "execution_count": 10,
   "metadata": {},
   "outputs": [
    {
     "data": {
      "text/plain": [
       "[{'emotion': {'angry': 0.7695464882999659,\n",
       "   'disgust': 0.0017518421373097226,\n",
       "   'fear': 21.767614781856537,\n",
       "   'happy': 7.470846176147461,\n",
       "   'sad': 3.292515128850937,\n",
       "   'surprise': 1.8059249967336655,\n",
       "   'neutral': 64.89180326461792},\n",
       "  'dominant_emotion': 'neutral',\n",
       "  'region': {'x': 478,\n",
       "   'y': 761,\n",
       "   'w': 1614,\n",
       "   'h': 1614,\n",
       "   'left_eye': (1482, 1360),\n",
       "   'right_eye': (1015, 1440)},\n",
       "  'face_confidence': 0.92,\n",
       "  'age': 23,\n",
       "  'gender': {'Woman': 3.9105501025915146, 'Man': 96.0894525051117},\n",
       "  'dominant_gender': 'Man',\n",
       "  'race': {'asian': 48.3898251289025,\n",
       "   'indian': 9.092241322531779,\n",
       "   'black': 1.6979591070389215,\n",
       "   'white': 8.573860441080358,\n",
       "   'middle eastern': 2.8526753024861398,\n",
       "   'latino hispanic': 29.393442236986292},\n",
       "  'dominant_race': 'asian'}]"
      ]
     },
     "execution_count": 10,
     "metadata": {},
     "output_type": "execute_result"
    }
   ],
   "source": [
    "obj"
   ]
  }
 ],
 "metadata": {
  "kernelspec": {
   "display_name": "Python 3",
   "language": "python",
   "name": "python3"
  },
  "language_info": {
   "codemirror_mode": {
    "name": "ipython",
    "version": 3
   },
   "file_extension": ".py",
   "mimetype": "text/x-python",
   "name": "python",
   "nbconvert_exporter": "python",
   "pygments_lexer": "ipython3",
   "version": "3.12.4"
  }
 },
 "nbformat": 4,
 "nbformat_minor": 2
}
